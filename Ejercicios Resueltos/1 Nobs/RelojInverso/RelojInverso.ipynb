{
 "cells": [
  {
   "attachments": {},
   "cell_type": "markdown",
   "metadata": {},
   "source": [
    "## __Reflejo del Reloj__\n",
    "\n",
    "Adrián no tiene un reloj en su habitación, por lo que cuando necesita ver la hora sin tener que desplazarse lo hace mirando el que está en la sala,pero por medio de un espejo que está en el corredor. El problema es que a veces se le olvida que lo que está viendo es un reflejo y que tiene que hacerla “conversión” correspondiente. Así, por ejemplo, si en el espejo ve las 2:48, es porque en realidad son las 9:12.\n",
    "\n",
    "Ayúdale a Adrián haciendo un programa para convertirla hora reflejada en la hora real.\n",
    "\n",
    "![Fig 1](\\imagen1.jpg)\n",
    "\n",
    "__Entrada:__ \n",
    "\n",
    "La entrada contiene dos líneas, la primera con un valor entero entre 1 y 12 para las horas que se ven en el espejo y la segunda con un valor j entero entre O y 59 para los minutos.\n",
    "\n",
    "__Salida:__ \n",
    "\n",
    "La hora correcta correspondiente en formato horas:minutos. Ten en cuenta que no es necesario anteceder 0 cuando alguno de los dos elementos es menor que 10, es decir, una salida como 3:7 es correcta y no se debe convertirá 3:07.\n",
    "\n"
   ]
  }
 ],
 "metadata": {
  "language_info": {
   "name": "python"
  },
  "orig_nbformat": 4
 },
 "nbformat": 4,
 "nbformat_minor": 2
}
