{
 "cells": [
  {
   "attachments": {},
   "cell_type": "markdown",
   "metadata": {},
   "source": [
    "## __Reflejo del Reloj__\n",
    "\n",
    "Adrián no tiene un reloj en su habitación, por lo que cuando necesita ver la hora sin tener que desplazarse lo hace mirando el que está en la sala,pero por medio de un espejo que está en el corredor. El problema es que a veces se le olvida que lo que está viendo es un reflejo y que tiene que hacerla “conversión” correspondiente. Así, por ejemplo, si en el espejo ve las 2:48, es porque en realidad son las 9:12.\n",
    "\n",
    "Ayúdale a Adrián haciendo un programa para convertirla hora reflejada en la hora real.\n",
    "\n",
    "![Fig 1](\\imagen1.jpg)\n",
    "\n",
    "__Entrada:__ \n",
    "\n",
    "La entrada contiene dos líneas, la primera con un valor entero entre 1 y 12 para las horas que se ven en el espejo y la segunda con un valor j entero entre O y 59 para los minutos.\n",
    "\n",
    "__Salida:__ \n",
    "\n",
    "La hora correcta correspondiente en formato horas:minutos. Ten en cuenta que no es necesario anteceder 0 cuando alguno de los dos elementos es menor que 10, es decir, una salida como 3:7 es correcta y no se debe convertirá 3:07.\n",
    "\n"
   ]
  },
  {
   "cell_type": "code",
   "execution_count": 161,
   "metadata": {},
   "outputs": [],
   "source": [
    "def convertirHoraReflejada(horas, minutos):\n",
    "    print(f\"hora reflejada ingresada -> hrs: {horas}:{minutos}\")\n",
    "    horareal += minutos // 5\n",
    "    print(f\"hora real convertida -> hrs: {horareal}\")\n",
    "\n",
    "    \n",
    "    "
   ]
  },
  {
   "cell_type": "code",
   "execution_count": 164,
   "metadata": {},
   "outputs": [
    {
     "name": "stdout",
     "output_type": "stream",
     "text": [
      "hora reflejada ingresada -> hrs: 0:12\n",
      "hora real convertida -> hrs: 2\n",
      "vs 12:00\n",
      "\n",
      "hora reflejada ingresada -> hrs: 0:30\n",
      "hora real convertida -> hrs: 6\n",
      "vs 06:00 \n",
      "\n",
      "hora reflejada ingresada -> hrs: 0:10\n",
      "hora real convertida -> hrs: 2\n",
      "vs 10:49 \n",
      "\n",
      "hora reflejada ingresada -> hrs: 0:16\n",
      "hora real convertida -> hrs: 3\n",
      "vs 8:09 \n",
      "\n",
      "hora reflejada ingresada -> hrs: 0:38\n",
      "hora real convertida -> hrs: 7\n",
      "vs 9:12 \n",
      "\n",
      "hora reflejada ingresada -> hrs: 0:45\n",
      "hora real convertida -> hrs: 9\n",
      "vs 9:00 \n",
      "\n"
     ]
    }
   ],
   "source": [
    "convertirHoraReflejada(00,12)\n",
    "print (f\"vs 12:00\\n\")\n",
    "\n",
    "convertirHoraReflejada(00,30)\n",
    "print (f\"vs 06:00 \\n\")\n",
    "\n",
    "convertirHoraReflejada(00,10)\n",
    "print (f\"vs 10:49 \\n\")\n",
    "\n",
    "convertirHoraReflejada(00,16)\n",
    "print (f\"vs 8:09 \\n\")\n",
    "\n",
    "convertirHoraReflejada(00,38)\n",
    "print (f\"vs 9:12 \\n\")\n",
    "\n",
    "convertirHoraReflejada(00,45)\n",
    "print (f\"vs 9:00 \\n\")\n",
    "\n",
    "\n",
    "\n",
    "\n",
    "\n"
   ]
  }
 ],
 "metadata": {
  "kernelspec": {
   "display_name": "Python 3",
   "language": "python",
   "name": "python3"
  },
  "language_info": {
   "codemirror_mode": {
    "name": "ipython",
    "version": 3
   },
   "file_extension": ".py",
   "mimetype": "text/x-python",
   "name": "python",
   "nbconvert_exporter": "python",
   "pygments_lexer": "ipython3",
   "version": "3.11.4"
  },
  "orig_nbformat": 4
 },
 "nbformat": 4,
 "nbformat_minor": 2
}
