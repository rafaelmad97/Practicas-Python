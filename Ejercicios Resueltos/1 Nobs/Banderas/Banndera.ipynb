{
 "cells": [
  {
   "attachments": {},
   "cell_type": "markdown",
   "metadata": {},
   "source": [
    "### _Bandera Inglesa_\n",
    "\n",
    "Muchas personas confunden la bandera de Inglaterra con la bandera del Reino Unido. Bueno, siendo honestos, muchos ni saben (o sabemos) que el Reino Unido, o más específicamente al Reino Unido de Gran Bretaña e Irlanda del Norte lo componen las regiones de Inglaterra, Escocia, Gales e Irlanda del Norte. Otro hecho poco conocido es que la bandera de ese Reino Unido, oficialmente denominada Union Flag pero más conocida como la Union Jack, es una combinación de las cruces de los santos patronos de Inglaterra, de Escocia y de Irlanda del Norte. \n",
    "\n",
    "![Fuente https://commons.wikimedia.org/wiki/File:Banderas_de_la_Union_Jack.PNG](\\imagen1.png)\n",
    "\n",
    "Dejando la clase de geografía de lado, resulta que a Miguel le encanta dibujar la bandera de Inglaterra pero, siendo programador, lo hace mediante Python. Por simplicidad, utiliza para “dibujarlas” únicamente los caracteres ‘0’ y ‘+’, y considera solamente banderas con un largo L (cantidad de caracteres horizontales) y un alto H (cantidad de caracteres verticales) siendo ambos valores impares mayores a 2 y menores a 20. Así por ejemplo, una bandera de dimensión 7x5 la dibujará como:\n",
    "\n",
    "__0 0 0 + 0 0 0__\n",
    "\\\n",
    "__0 0 0 + 0 0 0__\n",
    "\\\n",
    "__+++ + +++__\n",
    "\\\n",
    "__0 0 0 + 0 0 0__\n",
    "\\\n",
    "__0 0 0 + 0 0 0__\n",
    "\n",
    "\n",
    "¿Harías un programa como el de Miguel?\n",
    "__Entrada__\n",
    "La entrada contiene dos líneas, la primera con el valor de L y la otra con el valor de H.\n",
    "__Salida__\n",
    "La salida debe “dibujar” la bandera según las indicaciones.\n",
    "\n",
    "|__Ejemplos de entrada__|__Ejemplos de salida__|\n",
    "|-----------------------|----------------------|\n",
    "\n",
    "3\n",
    "3\n",
    "\n",
    "0+0\n",
    "+++\n",
    "0+0\n",
    "\n",
    "9\n",
    "5\n",
    "\n",
    "0000+0000\n",
    "0000+0000\n",
    "+++++++++\n",
    "0000+0000\n",
    "0000+0000\n",
    "\n",
    "\n",
    "         \n",
    "      \n",
    "\n"
   ]
  },
  {
   "attachments": {},
   "cell_type": "markdown",
   "metadata": {},
   "source": [
    "### __Solución__\n",
    "\n",
    "Generamos un método para generar la bandera, donde se reciben los tamaños de la misma por parámetro."
   ]
  },
  {
   "cell_type": "code",
   "execution_count": 57,
   "metadata": {},
   "outputs": [],
   "source": [
    "def generarBandera(sizey,sizex):\n",
    "    x = 0 \n",
    "    y = 0\n",
    "    bandera = \"\"\n",
    "    midx = sizex//2\n",
    "    midy = sizey//2\n",
    "    while x < sizex and y < sizey:\n",
    "        if x == midx or y == midy: \n",
    "            bandera += \" + \"\n",
    "        else:\n",
    "            bandera += \" 0 \"\n",
    "        x+=+1\n",
    "        if x == sizex:\n",
    "            bandera += \"\\n\"\n",
    "            x=0\n",
    "            y+=+1\n",
    "    return bandera"
   ]
  },
  {
   "attachments": {},
   "cell_type": "markdown",
   "metadata": {},
   "source": [
    "Se genera un metodo main que sirve como interfaz grafica donde pedimos y validamos los valores ingresados."
   ]
  },
  {
   "cell_type": "code",
   "execution_count": 67,
   "metadata": {},
   "outputs": [
    {
     "name": "stdout",
     "output_type": "stream",
     "text": [
      "Ingrese el x tamaño de la bandera\n",
      "Ingrese el y tamaño de la bandera\n",
      "\n",
      "\n",
      "x=15 y=9\n",
      "\n",
      " 0  0  0  0  0  0  0  +  0  0  0  0  0  0  0 \n",
      " 0  0  0  0  0  0  0  +  0  0  0  0  0  0  0 \n",
      " 0  0  0  0  0  0  0  +  0  0  0  0  0  0  0 \n",
      " 0  0  0  0  0  0  0  +  0  0  0  0  0  0  0 \n",
      " +  +  +  +  +  +  +  +  +  +  +  +  +  +  + \n",
      " 0  0  0  0  0  0  0  +  0  0  0  0  0  0  0 \n",
      " 0  0  0  0  0  0  0  +  0  0  0  0  0  0  0 \n",
      " 0  0  0  0  0  0  0  +  0  0  0  0  0  0  0 \n",
      " 0  0  0  0  0  0  0  +  0  0  0  0  0  0  0 \n",
      "\n"
     ]
    }
   ],
   "source": [
    "\n",
    "def main():\n",
    "    size_x = size_y = 0\n",
    "    x = y = False \n",
    "    while size_x % 2 == 0 or size_y % 2 == 0:\n",
    "        if x == False :\n",
    "            print(\"Ingrese el x tamaño de la bandera\")\n",
    "            size_x = int(input())\n",
    "        if y == False:\n",
    "            print(\"Ingrese el y tamaño de la bandera\")\n",
    "            size_y = int(input())\n",
    "        \n",
    "        y = size_y % 2 != 0 and size_y < 200 and size_y > 0\n",
    "        \n",
    "        x = size_x % 2 != 0 and size_x < 200 and size_x > 0\n",
    "\n",
    "        if x and y:\n",
    "            break\n",
    "        else:\n",
    "            print(\"el valor debe ser impar, no debe exceder a 200 y debe ser mayor a cero\")\n",
    "    print(\"\\n\")\n",
    "    print(f\"x={size_x} y={size_y}\\n\")\n",
    "\n",
    "    print(generarBandera(size_y,size_x))\n",
    "\n",
    "main()"
   ]
  }
 ],
 "metadata": {
  "kernelspec": {
   "display_name": "Python 3",
   "language": "python",
   "name": "python3"
  },
  "language_info": {
   "codemirror_mode": {
    "name": "ipython",
    "version": 3
   },
   "file_extension": ".py",
   "mimetype": "text/x-python",
   "name": "python",
   "nbconvert_exporter": "python",
   "pygments_lexer": "ipython3",
   "version": "3.11.0"
  },
  "orig_nbformat": 4
 },
 "nbformat": 4,
 "nbformat_minor": 2
}
