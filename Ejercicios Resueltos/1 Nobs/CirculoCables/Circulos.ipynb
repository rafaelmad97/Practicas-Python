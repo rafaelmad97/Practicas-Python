{
 "cells": [
  {
   "cell_type": "markdown",
   "metadata": {},
   "source": [
    "## __Cajón de los cables__ \n",
    "\n",
    "En casi todas las casas hay un cajón al que van a parar todos los cables, adaptadores y\n",
    "demás piezas de “repuesto” de cuanto aparato electrónico se tiene o que, pasando a\n",
    "mejor vida, no se botan “por si las moscas”\n",
    "\n",
    "Concentrándonos solo en los cables, y sabiendo que cada uno de los dos extremos es o\n",
    "“macho” o “hembra”, y suponiendo que todos son de un mismo tipo ¿sería posible hacer\n",
    "un único círculo con todos ellos conectándolos entre sí? Obviamente solo es posible\n",
    "conectar un extremo macho con uno hembra y viceversa\n",
    "\n",
    "__Entrada__ <br /> \n",
    "La entrada comienza con una línea que contiene la cantidad C de casos de prueba (no\n",
    "más de 50). Luego siguen C líneas, cada una con una serie de cables (por lo menos uno\n",
    "y no más de 100) separados entre sí por un espacio en blanco. Cada cable se representa\n",
    "por dos caracteres unidos, uno por cada extremo, con la denominación “M' si es macho\n",
    "o F'sies hembra.\n",
    "\n",
    "__Salida__ <br />\n",
    "\n",
    "La salida debe contener C líneas, cada una con el mensaje (sin acentos ni comillas): 'Es\n",
    "posible hacer un unico circulo”, o 'No es posible\" según sea el caso\n",
    "\n",
    "| Ejemplo de entrada | Ejemplo de salida |\n",
    "|--------------------|-------------------|\n",
    "| 6<br> FM FM<br> MM MF<br> MM FF<br> FM<br> MF FF MM<br> FF MM FF<br> | Es posible hacer un unico circulo<br> No es posible<br> Es posible hacer un unico circulo<br> Es posible hacer un unico circulo<br> Es posible hacer un unico circulo<br> No es posible<br> |\n"
   ]
  },
  {
   "cell_type": "markdown",
   "metadata": {},
   "source": [
    "## __Solución__\n",
    "\n",
    "Para poder determinar que se pueda determinar que el circulo de cables pueda ser efectivo de debe validar que el numero de conectores hembras y machos deben ser iguales."
   ]
  },
  {
   "cell_type": "code",
   "execution_count": 1,
   "metadata": {},
   "outputs": [],
   "source": [
    "def validarCirculodeCables(value):\n",
    "    listaCables = value.split(\" \")\n",
    "    conectoresf = conectoresm = 0\n",
    "    for cable in listaCables:\n",
    "        conectoresf +=cable.count(\"F\")\n",
    "        conectoresm +=cable.count(\"M\")\n",
    "    if( conectoresm == conectoresf): \n",
    "        print(\"Es posible hacer un unico circulo\")\n",
    "    else:\n",
    "        print(\"No es posible\") \n",
    "    \n",
    "    "
   ]
  },
  {
   "cell_type": "code",
   "execution_count": 2,
   "metadata": {},
   "outputs": [],
   "source": [
    "def ingresarValores(size):\n",
    "    lista = []\n",
    "    for x in range(size):\n",
    "        value = input()\n",
    "        lista.append(value.upper())\n",
    "    return lista"
   ]
  },
  {
   "cell_type": "code",
   "execution_count": 3,
   "metadata": {},
   "outputs": [],
   "source": [
    "def leerValores(lista):\n",
    "    for cables in lista:\n",
    "        validarCirculodeCables(cables)"
   ]
  },
  {
   "cell_type": "code",
   "execution_count": 4,
   "metadata": {},
   "outputs": [],
   "source": [
    "def main():\n",
    "    size = int(input())\n",
    "    lista=ingresarValores(size)\n",
    "    leerValores(lista) "
   ]
  },
  {
   "cell_type": "code",
   "execution_count": 5,
   "metadata": {},
   "outputs": [
    {
     "name": "stdout",
     "output_type": "stream",
     "text": [
      "No es posible\n",
      "No es posible\n",
      "Es posible hacer un unico circulo\n",
      "Es posible hacer un unico circulo\n"
     ]
    }
   ],
   "source": [
    "main()"
   ]
  }
 ],
 "metadata": {
  "kernelspec": {
   "display_name": "Python 3",
   "language": "python",
   "name": "python3"
  },
  "language_info": {
   "codemirror_mode": {
    "name": "ipython",
    "version": 3
   },
   "file_extension": ".py",
   "mimetype": "text/x-python",
   "name": "python",
   "nbconvert_exporter": "python",
   "pygments_lexer": "ipython3",
   "version": "3.11.0"
  },
  "orig_nbformat": 4
 },
 "nbformat": 4,
 "nbformat_minor": 2
}
